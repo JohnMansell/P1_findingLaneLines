{
 "cells": [
  {
   "cell_type": "markdown",
   "metadata": {
    "collapsed": true
   },
   "source": [
    "# Udacity Self Driving Car Nano Degree\n",
    "### John Mansell\n",
    "\n",
    "The goal of this project is to take images of a road taken from the front of a car, identify the location of the lanelines, and project the lane lines back onto the original image.\n",
    "\n",
    "This will first be done with still images, and then with a video stream.\n",
    "\n",
    "<img src=\"./test_images/whiteCarLaneSwitch.jpg\" alt=\"Drawing\" style=\"width: 300px;\"/>\n",
    "<img src=\"./output/output5.jpg\" alt=\"Drawing\" style=\"width: 300px;\"/>"
   ]
  },
  {
   "cell_type": "code",
   "execution_count": 1,
   "metadata": {},
   "outputs": [],
   "source": []
  },
  {
   "cell_type": "code",
   "execution_count": null,
   "metadata": {},
   "outputs": [],
   "source": []
  },
  {
   "cell_type": "code",
   "execution_count": null,
   "metadata": {},
   "outputs": [],
   "source": []
  }
 ],
 "metadata": {
  "kernelspec": {
   "display_name": "Python 3",
   "language": "python",
   "name": "python3"
  },
  "language_info": {
   "codemirror_mode": {
    "name": "ipython",
    "version": 3
   },
   "file_extension": ".py",
   "mimetype": "text/x-python",
   "name": "python",
   "nbconvert_exporter": "python",
   "pygments_lexer": "ipython3",
   "version": "3.5.4"
  },
  "widgets": {
   "state": {},
   "version": "1.1.2"
  }
 },
 "nbformat": 4,
 "nbformat_minor": 1
}
