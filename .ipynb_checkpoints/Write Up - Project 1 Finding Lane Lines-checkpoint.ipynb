{
 "cells": [
  {
   "cell_type": "markdown",
   "metadata": {},
   "source": [
    "# P1 -- Finding Lane Lines\n",
    "\n",
    "### Udacity Self Driving Car :: Nano Degree\n",
    "### John Mansell\n",
    "\n",
    "The goal of this project is:\n",
    "* Take an image of a road\n",
    "* Identify the location of the lane lines\n",
    "* Project the lane line back onto the image\n",
    "\n",
    "This will first be done with still images, and then with a video stream.\n",
    "\n",
    "<img src=\"./test_images/whiteCarLaneSwitch.jpg\" style=\"width: 300px;\" align=\"left\"/>\n",
    "\n",
    "<img src=\"./output/output5.jpg\" style=\"width: 300px;\"/>"
   ]
  },
  {
   "cell_type": "markdown",
   "metadata": {},
   "source": [
    "## Pipeline"
   ]
  },
  {
   "cell_type": "markdown",
   "metadata": {},
   "source": [
    "### The pipeline for each image involved three major phases\n",
    "----\n",
    "* Isolate the data to be analyzed:\n",
    " * Convert the image to grayscale\n",
    " * Blur the image to reduce noise\n",
    " * Detect sharp edges in the image\n",
    " * Remove all the edges that arent located within the resonable expectation for lane lines\n",
    "\n",
    "\n",
    "* Identify the lines in the image:\n",
    " * Search the image for pixels that are co-linear with eachother\n",
    " * Compare co-linear possibilities and keep the most prominent lines\n",
    " * Separate lines by slope into left and right lane lines\n",
    " * Extrapolate the lane lines into one continuous line for each side\n",
    " * Plot the two lane lines on the original image\n",
    " \n",
    "\n",
    "* Save the file:\n",
    " * If the picture was a single image:\n",
    "   * Convert to BGR color space and save to file\n",
    " * If the picture was a frame from a video:\n",
    "   * Create a video of all the frames put together"
   ]
  },
  {
   "cell_type": "markdown",
   "metadata": {},
   "source": [
    "## Isolate Data\n",
    "#### Grayscale\n",
    "<img src=\"./myImages/grayPic.jpg\" width=\"250\" inline=\"true\">\n",
    "\n",
    "#### Blur\n",
    "<img src=\"./myImages/grayPic.jpg\" width=\"250\" inline=\"true\">\n",
    "\n",
    "#### Detect Edges\n",
    "<img src=\"./myImages/edges_1.jpg\" width=\"250\" inline=\"true\">\n",
    "\n",
    "#### Isolate Region of Interest\n",
    "<img src=\"./myImages/maskedPic.jpg\" width=\"250\" inline=\"true\">\n",
    "\n",
    "## Identify the lane lines\n",
    "\n",
    "#### Identify the Lines using the hough transform\n",
    "<img src=\"./myImages/houghPic.jpg\" width=\"250\" inline=\"true\">\n",
    "\n",
    "#### Plot the lines onto the original image\n",
    "<img src=\"./myImages/lineEdges.jpg\" width=\"250\" inline=\"true\">\n",
    "\n",
    "#### Extrapolate the lines\n",
    "<img src=\"./myImages/projection.jpg\" width=\"250\" inline=\"true\">\n",
    "\n",
    "## Save the new file\n",
    "\n",
    "#### Draw the extrapolated Lane Lines onto the original image\n",
    "<img src=\"./myImages/final_img.jpg\" width=\"250\" inline=\"true\">"
   ]
  },
  {
   "cell_type": "markdown",
   "metadata": {},
   "source": [
    "### Draw Lane Lines\n",
    "The main goal of the project is to determine the location of the lane lines on the road, and then project them back onto the original picture. Once the location is determined, drawing the lines it executed by the \"draw_lane_lines\" function. \n",
    "\n",
    "Before \"draw_lane_lines\" can be called, the function \"extrapolate_lines\" takes in the array of all the different line edges found in the image, separates them by slope and y intercept, and aggregates the partial lines into two distinct lane lines extrapolated from the raw data.\n",
    "\n",
    "The \"draw_lane_lines\" function then takes in three parameters; the original image, and the right and left lane lines in standard form. For each line, draw_lane_lines finds the x-intercept and the intersection of the two lines. Then the two lines are drawn on a blank image the same size as the original. The line segments each start at the bottom of the picture and extend up to their intersection. Finally, the lane lines are projected back onto the original image."
   ]
  },
  {
   "cell_type": "markdown",
   "metadata": {},
   "source": [
    "### 2. Potential Shortcomings\n",
    "\n",
    "\n",
    "As I've been working on this project, I've noticed a number of situations while driving that would be difficult for this pipeline to handle:\n",
    "* Curves on the road\n",
    "* Sections of the road with no lane lines\n",
    "* Places where old lane lines are still visable\n",
    "* Sharp and distinct shadow lines on the road, or seams in the concrete\n",
    "* Distinguishing the middle divider from other lane lines\n",
    "* Writing on the road that would show up as clear lines and distort the slope of the aggregate lines\n",
    "* Vertical barriers separating one lane from another\n",
    "\n",
    "In general, the main shortcoming of this pipeline is that it is not as intelligent as a person in separating out what is a lane line, and what is some other line. Other sharp lines in the image can easily throw off the results. Also, it assumes the lane lines will be best fit to a straight line, but not a curve, or even a hill. "
   ]
  },
  {
   "cell_type": "markdown",
   "metadata": {},
   "source": [
    "### 3. Possible Improvements\n",
    "\n",
    "So far, my algorith is only able to handle the simplist and most controlled environments. I'm looking forward to learning how to handle some of the more complicated situations.\n",
    "\n",
    "One improvement would be to analyze if the line is best fit to a curve or a straight line.\n",
    "\n",
    "Another improvement would be to determine if the lane line is one that can be crossed or not. It would be bad to never cross a lane line. It might be worse to cross over the wrong lane line."
   ]
  },
  {
   "cell_type": "markdown",
   "metadata": {},
   "source": [
    "# Video Output"
   ]
  },
  {
   "cell_type": "code",
   "execution_count": 29,
   "metadata": {},
   "outputs": [
    {
     "data": {
      "text/html": [
       "\n",
       "<video width=\"960\" height=\"540\" controls>\n",
       "  <source src=\"test_videos_output/solidWhiteRight.mp4\">\n",
       "</video>\n"
      ],
      "text/plain": [
       "<IPython.core.display.HTML object>"
      ]
     },
     "execution_count": 29,
     "metadata": {},
     "output_type": "execute_result"
    }
   ],
   "source": [
    "# Import everything needed to edit/save/watch video clips\n",
    "from moviepy.editor import VideoFileClip\n",
    "from IPython.display import HTML\n",
    "\n",
    "white_output = (\"test_videos_output/solidWhiteRight.mp4\")\n",
    "yellow_output = ('test_videos_output/solidYellowLeft.mp4')\n",
    "\n",
    "HTML(\"\"\"\n",
    "<video width=\"960\" height=\"540\" controls>\n",
    "  <source src=\"{0}\">\n",
    "</video>\n",
    "\"\"\".format(white_output))"
   ]
  },
  {
   "cell_type": "code",
   "execution_count": 30,
   "metadata": {},
   "outputs": [
    {
     "data": {
      "text/html": [
       "\n",
       "<video width=\"960\" height=\"540\" controls>\n",
       "  <source src=\"test_videos_output/solidYellowLeft.mp4\">\n",
       "</video>\n"
      ],
      "text/plain": [
       "<IPython.core.display.HTML object>"
      ]
     },
     "execution_count": 30,
     "metadata": {},
     "output_type": "execute_result"
    }
   ],
   "source": [
    "HTML(\"\"\"\n",
    "<video width=\"960\" height=\"540\" controls>\n",
    "  <source src=\"{0}\">\n",
    "</video>\n",
    "\"\"\".format(yellow_output))"
   ]
  },
  {
   "cell_type": "code",
   "execution_count": null,
   "metadata": {},
   "outputs": [],
   "source": []
  }
 ],
 "metadata": {
  "kernelspec": {
   "display_name": "Python 3",
   "language": "python",
   "name": "python3"
  },
  "language_info": {
   "codemirror_mode": {
    "name": "ipython",
    "version": 3
   },
   "file_extension": ".py",
   "mimetype": "text/x-python",
   "name": "python",
   "nbconvert_exporter": "python",
   "pygments_lexer": "ipython3",
   "version": "3.5.4"
  },
  "widgets": {
   "state": {
    "09cbc7afb0e04bfbb29249ed88ee8223": {
     "views": []
    },
    "1667a9cd73ed461da7384df7d9e1f522": {
     "views": []
    },
    "1bd8558076be485e952fb8056df886ba": {
     "views": []
    },
    "1d431117821a480d9d299956a25b314e": {
     "views": []
    },
    "1e54d8875f72466d97879cd693139823": {
     "views": []
    },
    "241717fb5b77471dbb0609e1ec911aff": {
     "views": []
    },
    "285e9e28fdf9444a864562f5dcd3c707": {
     "views": []
    },
    "2c7f73105aa447fc9061dd5d54f3d2bf": {
     "views": []
    },
    "2dedca5d56dd45a3b0b321be642a535f": {
     "views": []
    },
    "43c87ed892da4034a674c16c634eafc2": {
     "views": []
    },
    "63d62cc058404f32b176603111744c86": {
     "views": []
    },
    "6baa868cc06e4b98b4cef3e5fb7fd625": {
     "views": []
    },
    "6e40734855d14909924ac4e45c6722ff": {
     "views": []
    },
    "768520f790e347a6a3f10fe456f06c60": {
     "views": []
    },
    "7ee37585e9bd41cca91748a20e04becc": {
     "views": []
    },
    "8015d47b1b4f47749f88add942560607": {
     "views": []
    },
    "80a7e71f3e8c417cbbec1d974628563e": {
     "views": []
    },
    "85078c2fe7ca4c2a853087a6ddc5bad0": {
     "views": []
    },
    "92dbf21d822346d7ab3d4879ca3219c8": {
     "views": []
    },
    "94239948cbb44492936593505d203766": {
     "views": []
    },
    "998d7b519e404c5d9d31adf0139ae655": {
     "views": []
    },
    "9d2c8632a12245fd8f6ef2ee98256401": {
     "views": []
    },
    "a289018d3978468ca53275fcf92d69d2": {
     "views": []
    },
    "a3b53b23ae8c4a1fb66ba66ef8b43b78": {
     "views": []
    },
    "a5d73c5f80a24fb18f5c55868079cc88": {
     "views": []
    },
    "a5e24d88c3fd44b3a1e76aba0f701092": {
     "views": []
    },
    "b65eae11be46474588265ba19946c45d": {
     "views": []
    },
    "bf30eee59ce4427c97a03d898df61768": {
     "views": []
    },
    "cc7422ff1c67416ababbf746c560d4fc": {
     "views": []
    },
    "d6dba318da824f5391eb4f2b0e56d51d": {
     "views": []
    },
    "dbb71f20414c44f792284041825fec94": {
     "views": []
    },
    "fa90347bfadf4ca182eb1293cc764786": {
     "views": []
    }
   },
   "version": "1.1.2"
  }
 },
 "nbformat": 4,
 "nbformat_minor": 1
}
