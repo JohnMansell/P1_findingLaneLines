{
 "cells": [
  {
   "cell_type": "markdown",
   "metadata": {},
   "source": [
    "# **Finding Lane Lines on the Road** \n",
    "\n",
    "## Writeup Template\n",
    "\n",
    "### You can use this file as a template for your writeup if you want to submit it as a markdown file. But feel free to use some other method and submit a pdf if you prefer.\n",
    "\n",
    "---\n",
    "\n",
    "**Finding Lane Lines on the Road**\n",
    "\n",
    "The goals / steps of this project are the following:\n",
    "* Make a pipeline that finds lane lines on the road\n",
    "* Reflect on your work in a written report\n",
    "---"
   ]
  },
  {
   "cell_type": "markdown",
   "metadata": {},
   "source": [
    "### Reflection\n",
    "\n",
    "[//]: # (Image References)\n",
    "\n",
    "[image1]: ./examples/grayscale.jpg \"Grayscale\"\n",
    "\n",
    "### 1. Describe your pipeline. \n",
    "\n",
    "If you'd like to include images to show how the pipeline works, here is how to include an image: \n",
    "\n",
    "![alt text][image1]"
   ]
  },
  {
   "cell_type": "markdown",
   "metadata": {},
   "source": [
    "### The pipeline for each image involved three major phases\n",
    "----\n",
    "* Isolate the data to be analyzed:\n",
    " * Convert the image to grayscale\n",
    " * Blur the image to reduce noise\n",
    " * Detect sharp edges in the image\n",
    " * Remove all the edges that arent located within the resonable expectation for lane lines\n",
    "\n",
    "\n",
    "* Identify the lines in the image:\n",
    " * Search the image for pixels that are co-linear with eachother\n",
    " * Compare co-linear possibilities and keep the most prominent lines\n",
    " * Separate lines by slope into left and right lane lines\n",
    " * Extrapolate the lane lines into one continuous line for each side\n",
    " * Plot the two lane lines on the original image\n",
    " \n",
    "\n",
    "* Save the file:\n",
    " * If the picture was a single image:\n",
    "   * Convert to BGR color space and save to file\n",
    " * If the picture was a frame from a video:\n",
    "   * Create a video of all the frames put together"
   ]
  },
  {
   "cell_type": "markdown",
   "metadata": {},
   "source": [
    "### Draw Lane Lines\n",
    "The main goal of the project is to determine the location of the lane lines on the road, and then project them back onto the original picture. Once the location is determined, drawing the lines it executed by the \"draw_lane_lines\" function. \n",
    "\n",
    "Before \"draw_lane_lines\" can be called, the function \"extrapolate_lines\" takes in the array of all the different line edges found in the image, separates them by slope and y intercept, and aggregates the partial lines into two distinct lane lines extrapolated from the raw data.\n",
    "\n",
    "The \"draw_lane_lines\" function then takes in three parameters; the original image, and the right and left lane lines in standard form. For each line, draw_lane_lines finds the x-intercept and the intersection of the two lines. Then the two lines are drawn on a blank image the same size as the original. The line segments each start at the bottom of the picture and extend up to their intersection. Finally, the lane lines are projected back onto the original image."
   ]
  },
  {
   "cell_type": "markdown",
   "metadata": {},
   "source": [
    "### 2. Potential Shortcomings\n",
    "\n",
    "\n",
    "As I've been working on this project, I've noticed a number of situations while driving that would be difficult for this pipeline to handle:\n",
    "* Curves on the road\n",
    "* Sections of the road with no lane lines\n",
    "* Places where old lane lines are still visable\n",
    "* Sharp and distinct shadow lines on the road, or seams in the concrete\n",
    "* Distinguishing the middle divider from other lane lines\n",
    "* Writing on the road that would show up as clear lines and distort the slope of the aggregate lines\n",
    "* Vertical barriers separating one lane from another\n",
    "\n",
    "In general, the main shortcoming of this pipeline is that it is not as intelligent as a person in separating out what is a lane line, and what is some other line. Other sharp lines in the image can easily throw off the results. Also, it assumes the lane lines will be best fit to a straight line, but not a curve, or even a hill. "
   ]
  },
  {
   "cell_type": "markdown",
   "metadata": {},
   "source": [
    "### 3. Possible Improvements\n",
    "\n",
    "So far, my algorith is only able to handle the simplist and most controlled environments. I'm looking forward to learning how to handle some of the more complicated situations.\n",
    "\n",
    "One improvement would be to analyze if the line is best fit to a curve or a straight line.\n",
    "\n",
    "Another improvement would be to determine if the lane line is one that can be crossed or not. It would be bad to never cross a lane line. It might be worse to cross over the wrong lane line."
   ]
  },
  {
   "cell_type": "code",
   "execution_count": 1,
   "metadata": {
    "collapsed": true
   },
   "outputs": [],
   "source": [
    ""
   ]
  },
  {
   "cell_type": "code",
   "execution_count": null,
   "metadata": {},
   "outputs": [],
   "source": [
    ""
   ]
  }
 ],
 "metadata": {
  "kernelspec": {
   "display_name": "Python 3",
   "language": "python",
   "name": "python3"
  },
  "language_info": {
   "codemirror_mode": {
    "name": "ipython",
    "version": 3.0
   },
   "file_extension": ".py",
   "mimetype": "text/x-python",
   "name": "python",
   "nbconvert_exporter": "python",
   "pygments_lexer": "ipython3",
   "version": "3.6.2"
  }
 },
 "nbformat": 4,
 "nbformat_minor": 0
}